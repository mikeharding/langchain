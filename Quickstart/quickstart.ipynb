{
 "cells": [
  {
   "cell_type": "markdown",
   "metadata": {},
   "source": [
    "## Langchain Quickstart\n",
    "\n",
    "https://python.langchain.com/docs/get_started/quickstart"
   ]
  },
  {
   "cell_type": "markdown",
   "metadata": {},
   "source": [
    "- Install langchain: `pip install langchain-openai`\n",
    "- Install .env support for API keys: `pip install python-dotenv`"
   ]
  },
  {
   "cell_type": "code",
   "execution_count": 1,
   "metadata": {},
   "outputs": [],
   "source": [
    "%load_ext dotenv\n",
    "%dotenv"
   ]
  },
  {
   "cell_type": "markdown",
   "metadata": {},
   "source": [
    "### Building an Language Model Application"
   ]
  },
  {
   "cell_type": "code",
   "execution_count": 2,
   "metadata": {},
   "outputs": [],
   "source": [
    "from langchain_openai import ChatOpenAI"
   ]
  },
  {
   "cell_type": "code",
   "execution_count": 3,
   "metadata": {},
   "outputs": [],
   "source": [
    "llm = ChatOpenAI()"
   ]
  },
  {
   "cell_type": "code",
   "execution_count": 8,
   "metadata": {},
   "outputs": [
    {
     "name": "stdout",
     "output_type": "stream",
     "text": [
      "content='1. New York City, New York: Known for its thin-crust, foldable slices, New York City is widely considered the pizza capital of the United States. The city offers a wide variety of pizza styles, including traditional New York-style, wood-fired Neapolitan, and innovative artisanal creations.\\n\\n2. Chicago, Illinois: Chicago is famous for its deep-dish pizza, characterized by its thick, buttery crust, chunky tomato sauce, and generous amount of cheese. The city is home to numerous pizzerias that have perfected this iconic style.\\n\\n3. New Haven, Connecticut: New Haven is known for its unique style of pizza called \"apizza\" (pronounced \"ah-beets\"). This thin-crust, coal-fired pizza has a charred and crispy exterior, topped with a distinctive combination of ingredients, such as clams, white sauce, and grated cheese.\\n\\n4. San Francisco, California: San Francisco offers a diverse pizza scene, with a focus on artisanal and gourmet creations. The city is known for its sourdough crust pizzas, as well as innovative toppings like fresh local produce, artisan cheeses, and unique flavor combinations.\\n\\n5. Providence, Rhode Island: Providence may be a lesser-known pizza destination, but it is home to some exceptional pizzerias. The city\\'s pizza style, known as \"New York System,\" features a thin, crispy crust topped with a distinctive combination of mozzarella, sauce, and a sprinkle of grated Parmesan cheese.'\n"
     ]
    }
   ],
   "source": [
    "text = \"what are the 5 best destinations in the United States of America for pizza?\"\n",
    "print(llm.invoke(text))"
   ]
  }
 ],
 "metadata": {
  "kernelspec": {
   "display_name": "langchain-11",
   "language": "python",
   "name": "python3"
  },
  "language_info": {
   "codemirror_mode": {
    "name": "ipython",
    "version": 3
   },
   "file_extension": ".py",
   "mimetype": "text/x-python",
   "name": "python",
   "nbconvert_exporter": "python",
   "pygments_lexer": "ipython3",
   "version": "3.11.6"
  }
 },
 "nbformat": 4,
 "nbformat_minor": 2
}
